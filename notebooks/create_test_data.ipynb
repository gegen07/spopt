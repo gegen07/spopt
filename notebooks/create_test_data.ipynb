{
 "cells": [
  {
   "cell_type": "code",
   "execution_count": 63,
   "metadata": {
    "collapsed": true
   },
   "outputs": [],
   "source": [
    "import libpysal\n",
    "import numpy\n",
    "import geopandas\n",
    "import matplotlib\n",
    "import matplotlib.pyplot as plt\n",
    "import spaghetti\n",
    "import shapely\n",
    "from shapely.geometry import Point"
   ]
  },
  {
   "cell_type": "code",
   "execution_count": 64,
   "outputs": [],
   "source": [
    "def simulated_geo_points(in_data, needed=20, seed=0, to_file=None):\n",
    "    \"\"\"Generate synthetic spatial data points within an area.s\n",
    "    Parameters\n",
    "    ----------\n",
    "    in_data : geopandas.GeoDataFrame\n",
    "        A single polygon of the unioned street buffers.\n",
    "    needed : int\n",
    "        Number of points in the buffer. Default is 20.\n",
    "    seed : int\n",
    "        Seed for pseudo-random number generation. Default is 0.\n",
    "    to_file : str\n",
    "        File name for write out.\n",
    "    Returns\n",
    "    -------\n",
    "    sim_pts : geopandas.GeoDataFrame\n",
    "        Points within the buffer.\n",
    "    \"\"\"\n",
    "    geoms = in_data.geometry\n",
    "    area = tuple(in_data.total_bounds)\n",
    "    simulated_points_list = []\n",
    "    simulated_points_all = False\n",
    "    numpy.random.seed(seed)\n",
    "    while simulated_points_all == False:\n",
    "        x = numpy.random.uniform(area[0], area[2], 1)\n",
    "        y = numpy.random.uniform(area[1], area[3], 1)\n",
    "        point = Point(x, y)\n",
    "        if geoms.intersects(point)[0]:\n",
    "            simulated_points_list.append(point)\n",
    "        if len(simulated_points_list) == needed:\n",
    "            simulated_points_all = True\n",
    "    sim_pts = geopandas.GeoDataFrame(\n",
    "        simulated_points_list, columns=[\"geometry\"], crs=in_data.crs\n",
    "    )\n",
    "    if to_file:\n",
    "        sim_pts.to_file(to_file + \".shp\")\n",
    "    return sim_pts"
   ],
   "metadata": {
    "collapsed": false,
    "pycharm": {
     "name": "#%%\n"
    }
   }
  },
  {
   "cell_type": "code",
   "execution_count": 87,
   "outputs": [],
   "source": [
    "lattice = spaghetti.regular_lattice((0,0,10,10), 9, exterior=True)\n",
    "ntw = spaghetti.Network(in_data=lattice)\n",
    "gdf = spaghetti.element_as_gdf(ntw, arcs=True)\n",
    "street = geopandas.GeoDataFrame(geopandas.GeoSeries(gdf['geometry'].buffer(0.2).unary_union), crs=gdf.crs, columns=['geometry'])"
   ],
   "metadata": {
    "collapsed": false,
    "pycharm": {
     "name": "#%%\n"
    }
   }
  },
  {
   "cell_type": "code",
   "execution_count": 125,
   "outputs": [],
   "source": [
    "client_count = 100\n",
    "facility_count = 5\n",
    "\n",
    "client_points = simulated_geo_points(street, needed=client_count, seed=5)\n",
    "facility_points = simulated_geo_points(street, needed=facility_count, seed=6)"
   ],
   "metadata": {
    "collapsed": false,
    "pycharm": {
     "name": "#%%\n"
    }
   }
  },
  {
   "cell_type": "code",
   "execution_count": 113,
   "outputs": [
    {
     "data": {
      "text/plain": "                  geometry\n0  POINT (9.08575 3.25259)",
      "text/html": "<div>\n<style scoped>\n    .dataframe tbody tr th:only-of-type {\n        vertical-align: middle;\n    }\n\n    .dataframe tbody tr th {\n        vertical-align: top;\n    }\n\n    .dataframe thead th {\n        text-align: right;\n    }\n</style>\n<table border=\"1\" class=\"dataframe\">\n  <thead>\n    <tr style=\"text-align: right;\">\n      <th></th>\n      <th>geometry</th>\n    </tr>\n  </thead>\n  <tbody>\n    <tr>\n      <th>0</th>\n      <td>POINT (9.08575 3.25259)</td>\n    </tr>\n  </tbody>\n</table>\n</div>"
     },
     "metadata": {},
     "output_type": "display_data"
    },
    {
     "data": {
      "text/plain": "                    geometry\n0    POINT (2.10873 8.85562)\n1    POINT (1.94988 9.35355)\n2    POINT (4.87948 6.16214)\n3    POINT (7.76544 5.19155)\n4    POINT (2.88673 1.75230)\n..                       ...\n95  POINT (-0.13128 4.30248)\n96   POINT (5.86437 3.42781)\n97   POINT (2.20274 0.07079)\n98  POINT (7.40431 10.18456)\n99   POINT (0.19876 8.73462)\n\n[100 rows x 1 columns]",
      "text/html": "<div>\n<style scoped>\n    .dataframe tbody tr th:only-of-type {\n        vertical-align: middle;\n    }\n\n    .dataframe tbody tr th {\n        vertical-align: top;\n    }\n\n    .dataframe thead th {\n        text-align: right;\n    }\n</style>\n<table border=\"1\" class=\"dataframe\">\n  <thead>\n    <tr style=\"text-align: right;\">\n      <th></th>\n      <th>geometry</th>\n    </tr>\n  </thead>\n  <tbody>\n    <tr>\n      <th>0</th>\n      <td>POINT (2.10873 8.85562)</td>\n    </tr>\n    <tr>\n      <th>1</th>\n      <td>POINT (1.94988 9.35355)</td>\n    </tr>\n    <tr>\n      <th>2</th>\n      <td>POINT (4.87948 6.16214)</td>\n    </tr>\n    <tr>\n      <th>3</th>\n      <td>POINT (7.76544 5.19155)</td>\n    </tr>\n    <tr>\n      <th>4</th>\n      <td>POINT (2.88673 1.75230)</td>\n    </tr>\n    <tr>\n      <th>...</th>\n      <td>...</td>\n    </tr>\n    <tr>\n      <th>95</th>\n      <td>POINT (-0.13128 4.30248)</td>\n    </tr>\n    <tr>\n      <th>96</th>\n      <td>POINT (5.86437 3.42781)</td>\n    </tr>\n    <tr>\n      <th>97</th>\n      <td>POINT (2.20274 0.07079)</td>\n    </tr>\n    <tr>\n      <th>98</th>\n      <td>POINT (7.40431 10.18456)</td>\n    </tr>\n    <tr>\n      <th>99</th>\n      <td>POINT (0.19876 8.73462)</td>\n    </tr>\n  </tbody>\n</table>\n<p>100 rows × 1 columns</p>\n</div>"
     },
     "metadata": {},
     "output_type": "display_data"
    }
   ],
   "source": [
    "display(facility_points)\n",
    "display(client_points)"
   ],
   "metadata": {
    "collapsed": false,
    "pycharm": {
     "name": "#%%\n"
    }
   }
  },
  {
   "cell_type": "code",
   "execution_count": 126,
   "outputs": [
    {
     "data": {
      "text/plain": "array([[12.60302601,  3.93598651,  8.16571655,  6.04319467,  5.65607701],\n       [13.10096347,  4.43392397,  8.66365401,  6.54113213,  5.15813955],\n       [ 6.9095462 ,  4.2425067 ,  2.47223674,  0.34971486,  5.34955682],\n       [ 2.98196832,  7.84581224,  3.45534114,  3.57786302,  6.25374871],\n       [ 7.5002892 ,  6.32806975,  4.55779979,  6.43527791, 11.75939222],\n       [ 0.60209077, 11.42987132,  5.03940023,  7.16192211,  9.8378078 ],\n       [ 5.37335867,  6.20113923,  2.43086927,  4.30834738,  9.6324617 ],\n       [ 5.40801577,  5.41976478,  3.02929369,  1.15181557,  4.85108725],\n       [ 3.68807115,  8.51585171,  2.12538061,  4.24790249,  7.94717417],\n       [14.22503627,  4.60274429,  9.78772681,  7.66520493,  4.98931924],\n       [10.32521229,  4.99225179,  7.38272288,  9.260201  , 14.58431531],\n       [ 6.65436171,  7.98732222,  5.59685112,  3.719373  ,  2.58135531],\n       [11.55510375,  1.11193575,  7.11779429,  5.37988496, 10.70399927],\n       [10.90832519,  1.75871431,  6.47101573,  6.02666352, 11.35077783],\n       [ 9.29354019,  9.53424036,  7.14376926,  5.26629115,  0.05782317],\n       [11.25279502,  3.57498553,  6.81548556,  4.69296368,  6.01707799],\n       [ 6.14400601, 11.47696651,  9.08649542,  7.2090173 ,  3.09171102],\n       [10.43008909,  2.23695041,  5.99277963,  6.50489962, 11.82901393],\n       [ 1.79838406, 11.13134457,  4.74087347,  6.86339535,  9.53928104],\n       [ 2.93052752,  7.89725303,  3.50678194,  3.62930382,  6.30518951],\n       [11.55272282,  6.21976231,  8.61023341, 10.48771153, 15.81182584],\n       [ 8.83964081,  3.66742137,  5.89715141,  7.77462952, 13.09874384],\n       [ 4.11777697,  9.45073748,  7.06026638,  5.18278826,  7.11794005],\n       [ 8.69768642,  8.63527408,  5.75519701,  7.63267513, 12.95678945],\n       [ 8.2652832 ,  6.56249735,  4.79222739,  2.66970551,  3.02956617],\n       [ 1.71437731,  9.6185832 ,  3.2281121 ,  5.35063398,  8.02651967],\n       [ 4.30308213,  6.52469842,  2.13422733,  2.25674921,  5.95602089],\n       [ 9.31612329,  8.64908379,  6.25861269,  4.38113458,  0.94297974],\n       [ 2.86540683, 13.69318738,  7.30271629,  9.42523817, 12.10112386],\n       [ 8.95995574,  2.29291624,  4.52264628,  6.4001244 , 11.72423871],\n       [10.54288208,  7.87584258,  6.10557262,  3.98305074,  1.71622094],\n       [ 8.58885878,  8.74410173,  5.64636937,  7.52384749, 12.8479618 ],\n       [ 2.51163835, 12.82132215,  6.43085106,  8.55337294, 11.22925863],\n       [ 5.19213144,  5.63564912,  0.75482198,  1.74285727,  7.06697159],\n       [ 4.1276352 , 13.2053253 ,  6.81485421,  8.93737609, 11.61326178],\n       [ 3.99217608,  6.83560448,  0.44513338,  2.94281263,  6.75645905],\n       [ 5.88198594, 11.21494644,  8.82447535,  6.94699723,  5.35373109],\n       [ 8.24225403,  4.58552653,  3.80494457,  1.68242269,  5.006537  ],\n       [10.89255004,  6.22551054,  6.45524058,  4.3327187 ,  3.36655299],\n       [ 6.58504851, 11.91800902,  9.52753792,  7.6500598 ,  2.65066851],\n       [ 5.44204086,  8.77500136,  6.38453026,  4.50705215,  3.79367617],\n       [ 5.56289993,  7.26488062,  4.87440953,  2.99693141,  3.6728171 ],\n       [ 7.96716366, 10.86061689,  8.4701458 ,  6.59266768,  1.26855337],\n       [ 7.9603294 ,  5.3726311 ,  5.01783999,  6.89531811, 12.21943243],\n       [ 8.68198919,  4.65097132,  5.73949978,  7.6169779 , 12.94109221],\n       [ 9.06064716,  8.39360767,  6.00313657,  4.12565845,  1.19845586],\n       [15.325265  ,  4.65822551, 10.88795554,  8.76543366,  6.08954798],\n       [ 3.51444772,  7.81851278,  1.95175718,  3.92572094,  7.77355074],\n       [ 3.33469883, 14.16247938,  7.77200828,  9.89453017, 12.57041585],\n       [ 4.46482284,  6.36295772,  1.40731225,  2.0950085 ,  5.79428018],\n       [11.20742649,  1.459613  ,  6.77011704,  5.72756222, 11.05167653],\n       [11.15442417,  5.67335639,  6.71711471,  4.59459283,  3.91870714],\n       [ 5.17021584,  5.65756471,  0.73290638,  2.6103845 ,  7.93449881],\n       [ 5.54400588, 10.87696639,  8.48649529,  6.60901717,  5.28490286],\n       [ 5.28695668,  8.04600382,  2.34446727,  4.22194539,  9.5460597 ],\n       [ 7.33259845,  6.66555896,  4.27508786,  2.39760974,  2.92650457],\n       [ 8.08642618, 10.74135437,  8.35088328,  6.47340516,  1.14929085],\n       [ 7.97403829,  2.85374226,  3.53672884,  4.96095042, 10.28506473],\n       [ 5.04455411,  6.2884064 ,  2.1020647 ,  3.97954282,  9.30365713],\n       [ 8.05520721,  3.2777533 ,  5.1127178 ,  6.99019592, 12.31431023],\n       [ 8.033197  ,  3.2997635 ,  5.09070759,  6.96818571, 12.29230002],\n       [ 4.88391014,  5.94387041,  3.55339931,  1.6759212 ,  4.62480712],\n       [ 3.38092176,  9.44685879,  6.32341117,  5.17890958,  7.85479527],\n       [ 5.83945489,  5.17241539,  2.78194429,  0.90446618,  4.41964814],\n       [10.25764123,  4.57013932,  5.82033178,  3.69780989,  5.02192421],\n       [ 3.16471551,  8.168245  ,  1.7777739 ,  3.90029578,  7.59956747],\n       [ 8.83620663,  8.49675387,  5.89371722,  7.77119534, 13.09530965],\n       [ 7.60754658,  6.94050708,  4.55003599,  2.67255787,  2.65155644],\n       [ 4.14555919,  9.4785197 ,  7.0880486 ,  5.21057048,  5.09015784],\n       [ 7.24126831,  4.57422881,  2.80395885,  0.68143697,  5.01783472],\n       [ 5.70322513,  8.53100569,  2.76073572,  4.63821384,  9.96232815],\n       [ 9.27617639,  9.55160416,  7.16113307,  5.28365495,  0.04045936],\n       [ 2.5651854 , 11.39296595,  5.00249486,  7.12501674,  9.80090243],\n       [14.22296519,  3.5559257 ,  9.78565573,  7.66313385,  6.03613783],\n       [ 8.33806089,  2.48971967,  3.90075143,  5.77822955, 11.10234386],\n       [14.34079531,  3.51301476,  9.90348585,  7.78096397,  7.91830771],\n       [ 7.55811406,  6.89107456,  4.50060346,  2.62312535,  2.70098897],\n       [ 9.54667188,  8.87963238,  6.48916129,  4.61168317,  0.71243114],\n       [ 6.99771477,  3.83006578,  2.56040532,  2.43788343,  7.76199775],\n       [10.85478728,  4.18774778,  6.41747782,  4.29495594,  5.40431574],\n       [ 6.89563349,  8.43732701,  3.95314408,  5.8306222 , 11.15473651],\n       [12.29945454,  3.63241504,  7.86214508,  5.7396232 ,  5.95964848],\n       [ 6.57929244,  6.75366806,  3.63680304,  5.51428115, 10.83839547],\n       [ 8.35675866,  8.47102189,  6.0805508 ,  4.20307268,  1.90234436],\n       [11.26183   ,  1.40520949,  6.82452055,  5.67315871, 10.99727302],\n       [ 6.92663397,  8.25959447,  5.86912337,  3.99164526,  2.30908306],\n       [ 6.97410775,  3.8536728 ,  2.53679829,  3.96088096,  9.28499527],\n       [10.00715257,  8.82062799,  6.94964198,  4.92783614,  0.77143554],\n       [ 8.83013405,  7.9976465 ,  5.77262346,  3.89514534,  1.59441703],\n       [ 6.69445759,  4.63850292,  2.86823295,  4.74571107, 10.06982539],\n       [ 2.60649588, 11.43427644,  5.04380534,  7.16632722,  9.84221291],\n       [ 9.01806225,  4.31489826,  6.07557284,  7.95305096, 13.27716527],\n       [ 7.49191577,  3.84104474,  4.07077477,  5.94825289, 11.2723672 ],\n       [ 7.80056437,  9.53239613,  4.85807497,  6.73555308, 12.0596674 ],\n       [ 8.85156915,  2.48139135,  4.71112139,  6.58859951, 11.91271382],\n       [10.04988811,  2.61715138,  5.61257866,  6.8851006 , 12.20921491],\n       [ 3.68039673,  7.65256378,  1.26209268,  3.38461456,  7.08388625],\n       [10.04984807,  7.28311243,  7.10735867,  8.98483678, 14.3089511 ],\n       [ 8.34309643, 10.48468413,  8.09421303,  6.21673491,  0.8926206 ],\n       [14.48203148,  3.65425093, 10.04472202,  7.92220014,  7.77707154]])"
     },
     "execution_count": 126,
     "metadata": {},
     "output_type": "execute_result"
    }
   ],
   "source": [
    "## Cost Matrix\n",
    "ntw = spaghetti.Network(in_data=lattice)\n",
    "\n",
    "ntw.snapobservations(client_points, \"clients\", attribute=True)\n",
    "clients_snapped = spaghetti.element_as_gdf(\n",
    "    ntw, pp_name=\"clients\", snapped=True\n",
    ")\n",
    "ntw.snapobservations(facility_points, \"facilities\", attribute=True)\n",
    "facilities_snapped = spaghetti.element_as_gdf(\n",
    "    ntw, pp_name=\"facilities\", snapped=True\n",
    ")\n",
    "\n",
    "cost_matrix = ntw.allneighbordistances(\n",
    "    sourcepattern=ntw.pointpatterns[\"clients\"],\n",
    "    destpattern=ntw.pointpatterns[\"facilities\"],\n",
    ")\n",
    "cost_matrix"
   ],
   "metadata": {
    "collapsed": false,
    "pycharm": {
     "name": "#%%\n"
    }
   }
  },
  {
   "cell_type": "code",
   "execution_count": 132,
   "outputs": [
    {
     "data": {
      "text/plain": "1"
     },
     "execution_count": 132,
     "metadata": {},
     "output_type": "execute_result"
    }
   ],
   "source": [
    "from spopt.locate.coverage import LSCP\n",
    "from pulp import GLPK\n",
    "lscp = LSCP.from_cost_matrix(cost_matrix, max_coverage=8)\n",
    "lscp.solve(GLPK())\n",
    "#%"
   ],
   "metadata": {
    "collapsed": false,
    "pycharm": {
     "name": "#%%\n"
    }
   }
  },
  {
   "cell_type": "code",
   "execution_count": 140,
   "outputs": [
    {
     "data": {
      "text/plain": "1"
     },
     "execution_count": 140,
     "metadata": {},
     "output_type": "execute_result"
    }
   ],
   "source": [
    "from spopt.locate.coverage import MCLP\n",
    "from pulp import GLPK\n",
    "ai = numpy.random.randint(1, 12, (client_count, 1))\n",
    "mclp = MCLP.from_cost_matrix(cost_matrix, ai, max_coverage=4, p_facilities=2,)\n",
    "mclp.solve(GLPK())"
   ],
   "metadata": {
    "collapsed": false,
    "pycharm": {
     "name": "#%%\n"
    }
   }
  }
 ],
 "metadata": {
  "kernelspec": {
   "display_name": "Python 3",
   "language": "python",
   "name": "python3"
  },
  "language_info": {
   "codemirror_mode": {
    "name": "ipython",
    "version": 2
   },
   "file_extension": ".py",
   "mimetype": "text/x-python",
   "name": "python",
   "nbconvert_exporter": "python",
   "pygments_lexer": "ipython2",
   "version": "2.7.6"
  }
 },
 "nbformat": 4,
 "nbformat_minor": 0
}